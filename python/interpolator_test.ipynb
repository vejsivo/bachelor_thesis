{
 "cells": [
  {
   "cell_type": "code",
   "execution_count": 11,
   "id": "4140da2b",
   "metadata": {},
   "outputs": [
    {
     "name": "stdout",
     "output_type": "stream",
     "text": [
      "v before meshing [[1 2]\n",
      " [1 2]]\n",
      "[1.5]\n"
     ]
    }
   ],
   "source": [
    "from scipy.interpolate import RegularGridInterpolator\n",
    "import numpy as np\n",
    "\n",
    "x = np.linspace(0, 1, 2)\n",
    "y = np.linspace(0, 1, 2)\n",
    "\n",
    "v = np.array([[1, 2], [1, 2]])\n",
    "\n",
    "print(\"v before meshing\", v)\n",
    "v_flattened = v.flatten()\n",
    "\n",
    "\n",
    "\n",
    "\n",
    "interp = RegularGridInterpolator((x, y), v)\n",
    "values = interp([[0.5, 0.5]])\n",
    "print(values)"
   ]
  }
 ],
 "metadata": {
  "kernelspec": {
   "display_name": "venv_thesis",
   "language": "python",
   "name": "python3"
  },
  "language_info": {
   "codemirror_mode": {
    "name": "ipython",
    "version": 3
   },
   "file_extension": ".py",
   "mimetype": "text/x-python",
   "name": "python",
   "nbconvert_exporter": "python",
   "pygments_lexer": "ipython3",
   "version": "3.12.10"
  }
 },
 "nbformat": 4,
 "nbformat_minor": 5
}
