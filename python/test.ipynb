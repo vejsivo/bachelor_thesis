{
 "cells": [
  {
   "cell_type": "code",
   "execution_count": null,
   "id": "cca1c687",
   "metadata": {},
   "outputs": [
    {
     "name": "stdout",
     "output_type": "stream",
     "text": [
      "[array([0., 1.]), array([0. , 0.5, 1. ])]\n",
      "(array([[0., 0., 0.],\n",
      "       [1., 1., 1.]]), array([[0. , 0.5, 1. ],\n",
      "       [0. , 0.5, 1. ]]))\n",
      "[[0.  0. ]\n",
      " [0.  0.5]\n",
      " [0.  1. ]\n",
      " [1.  0. ]\n",
      " [1.  0.5]\n",
      " [1.  1. ]]\n",
      "[1. 1. 1. 0. 0. 0.]\n"
     ]
    }
   ],
   "source": [
    "\n",
    "\n",
    "import numpy as np\n",
    "import models as model\n",
    "import DP_solver as solver\n",
    "\n",
    "\n",
    "def terminal_cost(x):\n",
    "    v, s,  = x\n",
    "    v_target = 1\n",
    "    return (v - v_target)**2\n",
    "\n",
    "def cost_func(state, control, step_size, mode=\"time\"):   \n",
    "    s, v = state\n",
    "    return step_size / max(v, 1e-6)  # avoid divide-by-zero at low speed\n",
    "\n",
    "v_grid = np.linspace(0, 30, 31)\n",
    "s_grid = np.linspace(0, 30, 31)\n",
    "\n",
    "u_grid = np.linspace(0, 10, 11)\n",
    "\n",
    "state_grids = [s_grid, v_grid]\n",
    "\n",
    "solver.DPSolver(model = model.DragPointMass, state_grids = state_grids, control_grid = u_grid, step_size = 0.1, horizon = 30)\n",
    "\n"
   ]
  }
 ],
 "metadata": {
  "kernelspec": {
   "display_name": "venv_thesis",
   "language": "python",
   "name": "python3"
  },
  "language_info": {
   "codemirror_mode": {
    "name": "ipython",
    "version": 3
   },
   "file_extension": ".py",
   "mimetype": "text/x-python",
   "name": "python",
   "nbconvert_exporter": "python",
   "pygments_lexer": "ipython3",
   "version": "3.12.10"
  }
 },
 "nbformat": 4,
 "nbformat_minor": 5
}
